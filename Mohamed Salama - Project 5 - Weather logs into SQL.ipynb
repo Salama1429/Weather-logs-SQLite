{
 "cells": [
  {
   "cell_type": "code",
   "execution_count": 5,
   "metadata": {
    "ExecuteTime": {
     "end_time": "2021-12-23T18:50:43.252543Z",
     "start_time": "2021-12-23T18:50:41.940567Z"
    }
   },
   "outputs": [],
   "source": [
    "import requests\n",
    "from bs4 import BeautifulSoup\n",
    "from datetime import datetime\n",
    "import time\n",
    "import sqlite3"
   ]
  },
  {
   "cell_type": "code",
   "execution_count": 20,
   "metadata": {
    "ExecuteTime": {
     "end_time": "2021-12-23T18:15:35.172629Z",
     "start_time": "2021-12-23T18:15:35.158626Z"
    }
   },
   "outputs": [
    {
     "ename": "OperationalError",
     "evalue": "table weather already exists",
     "output_type": "error",
     "traceback": [
      "\u001b[1;31m---------------------------------------------------------------------------\u001b[0m",
      "\u001b[1;31mOperationalError\u001b[0m                          Traceback (most recent call last)",
      "\u001b[1;32m<ipython-input-20-eed38bdaa47d>\u001b[0m in \u001b[0;36m<module>\u001b[1;34m\u001b[0m\n\u001b[0;32m      2\u001b[0m \u001b[0mconn\u001b[0m \u001b[1;33m=\u001b[0m \u001b[0msqlite3\u001b[0m\u001b[1;33m.\u001b[0m\u001b[0mconnect\u001b[0m\u001b[1;33m(\u001b[0m\u001b[1;34m\"cairo_weather.db\"\u001b[0m\u001b[1;33m)\u001b[0m\u001b[1;33m\u001b[0m\u001b[1;33m\u001b[0m\u001b[0m\n\u001b[0;32m      3\u001b[0m \u001b[1;33m\u001b[0m\u001b[0m\n\u001b[1;32m----> 4\u001b[1;33m \u001b[0mconn\u001b[0m\u001b[1;33m.\u001b[0m\u001b[0mexecute\u001b[0m\u001b[1;33m(\u001b[0m\u001b[1;34m\"CREATE TABLE weather (id INTEGER PRIMARY KEY AUTOINCREMENT, temp int, wind text, humidity int, visibility int, pressure int, time_now datetime)\"\u001b[0m\u001b[1;33m)\u001b[0m\u001b[1;33m\u001b[0m\u001b[1;33m\u001b[0m\u001b[0m\n\u001b[0m\u001b[0;32m      5\u001b[0m \u001b[1;33m\u001b[0m\u001b[0m\n\u001b[0;32m      6\u001b[0m \u001b[0mconn\u001b[0m\u001b[1;33m.\u001b[0m\u001b[0mclose\u001b[0m\u001b[1;33m(\u001b[0m\u001b[1;33m)\u001b[0m\u001b[1;33m\u001b[0m\u001b[1;33m\u001b[0m\u001b[0m\n",
      "\u001b[1;31mOperationalError\u001b[0m: table weather already exists"
     ]
    }
   ],
   "source": [
    "# Create database\n",
    "conn = sqlite3.connect(\"cairo_weather.db\")\n",
    "\n",
    "conn.execute(\"CREATE TABLE weather (id INTEGER PRIMARY KEY AUTOINCREMENT, temp int, wind text, humidity int, visibility int, pressure int, time_now datetime)\")\n",
    "\n",
    "conn.close()"
   ]
  },
  {
   "cell_type": "code",
   "execution_count": 25,
   "metadata": {
    "ExecuteTime": {
     "start_time": "2021-12-23T18:58:33.164Z"
    }
   },
   "outputs": [],
   "source": [
    "conn = sqlite3.connect(\"cairo_weather.db\")\n",
    "\n",
    "for i in range(10):\n",
    "    response = requests.request('GET', 'https://eg.freemeteo.com/weather/cairo/current-weather/location/?gid=360630&language=english&country=egypt')\n",
    "    soup = BeautifulSoup(response.text, 'html.parser')\n",
    "    \n",
    "    div = soup.find('div', attrs={'class':'last-renew-info'})\n",
    "    temp = int(div.find('div', class_='temp').text.replace('°C', '')) # 1: Temperature\n",
    "    \n",
    "    wind = div.find('div', class_='wind')\n",
    "    white = wind.find('span', class_='white')\n",
    "    try:\n",
    "        wind_speed = int(white.find('b').text)  # 2: Wind speed\n",
    "    except AttributeError:\n",
    "        wind_speed = white.get_text().split(\": \")[1]\n",
    "    \n",
    "    stats = div.find(class_='stats')\n",
    "    stats_list = stats.text.split('|')\n",
    "    \n",
    "    humidity = stats_list[0].strip().split('\\r\\n')[1].strip().replace('%', '')    # 3: Humidity\n",
    "    visibility = stats_list[1].strip().split('\\r\\n')[1].strip().replace('m', '')  # 4: Visibility\n",
    "    pressure = stats_list[2].strip().split('\\r\\n')[1].strip().split('mb')[0]    # 5: Pressure\n",
    "    \n",
    "    date = datetime.now()  # 6: time_now\n",
    "    \n",
    "    ###### YOUR CODE HERE\n",
    "    \n",
    "    \n",
    "    conn.execute(\"INSERT INTO weather (temp, wind, humidity, visibility, pressure, time_now) VALUES (?, ?, ?,?, ?, ?)\", [temp, wind_speed, humidity, visibility, pressure, date])\n",
    "    conn.commit()  \n",
    "    \n",
    "    time.sleep(2)\n",
    "    \n",
    "conn.close()"
   ]
  },
  {
   "cell_type": "code",
   "execution_count": 22,
   "metadata": {},
   "outputs": [
    {
     "data": {
      "text/html": [
       "<div>\n",
       "<style scoped>\n",
       "    .dataframe tbody tr th:only-of-type {\n",
       "        vertical-align: middle;\n",
       "    }\n",
       "\n",
       "    .dataframe tbody tr th {\n",
       "        vertical-align: top;\n",
       "    }\n",
       "\n",
       "    .dataframe thead th {\n",
       "        text-align: right;\n",
       "    }\n",
       "</style>\n",
       "<table border=\"1\" class=\"dataframe\">\n",
       "  <thead>\n",
       "    <tr style=\"text-align: right;\">\n",
       "      <th></th>\n",
       "      <th>id</th>\n",
       "      <th>temp</th>\n",
       "      <th>wind</th>\n",
       "      <th>humidity</th>\n",
       "      <th>visibility</th>\n",
       "      <th>pressure</th>\n",
       "      <th>time_now</th>\n",
       "    </tr>\n",
       "  </thead>\n",
       "  <tbody>\n",
       "    <tr>\n",
       "      <th>0</th>\n",
       "      <td>1</td>\n",
       "      <td>9</td>\n",
       "      <td>Calm</td>\n",
       "      <td>76</td>\n",
       "      <td>6000</td>\n",
       "      <td>1023</td>\n",
       "      <td>2021-12-26 07:53:18.874793</td>\n",
       "    </tr>\n",
       "    <tr>\n",
       "      <th>1</th>\n",
       "      <td>2</td>\n",
       "      <td>9</td>\n",
       "      <td>Calm</td>\n",
       "      <td>76</td>\n",
       "      <td>6000</td>\n",
       "      <td>1023</td>\n",
       "      <td>2021-12-26 07:53:22.032150</td>\n",
       "    </tr>\n",
       "    <tr>\n",
       "      <th>2</th>\n",
       "      <td>3</td>\n",
       "      <td>9</td>\n",
       "      <td>Calm</td>\n",
       "      <td>76</td>\n",
       "      <td>6000</td>\n",
       "      <td>1023</td>\n",
       "      <td>2021-12-26 07:53:25.450449</td>\n",
       "    </tr>\n",
       "    <tr>\n",
       "      <th>3</th>\n",
       "      <td>4</td>\n",
       "      <td>9</td>\n",
       "      <td>Calm</td>\n",
       "      <td>76</td>\n",
       "      <td>6000</td>\n",
       "      <td>1023</td>\n",
       "      <td>2021-12-26 07:53:29.232431</td>\n",
       "    </tr>\n",
       "    <tr>\n",
       "      <th>4</th>\n",
       "      <td>5</td>\n",
       "      <td>9</td>\n",
       "      <td>Calm</td>\n",
       "      <td>76</td>\n",
       "      <td>6000</td>\n",
       "      <td>1023</td>\n",
       "      <td>2021-12-26 07:53:32.284418</td>\n",
       "    </tr>\n",
       "  </tbody>\n",
       "</table>\n",
       "</div>"
      ],
      "text/plain": [
       "   id  temp  wind  humidity  visibility  pressure                    time_now\n",
       "0   1     9  Calm        76        6000      1023  2021-12-26 07:53:18.874793\n",
       "1   2     9  Calm        76        6000      1023  2021-12-26 07:53:22.032150\n",
       "2   3     9  Calm        76        6000      1023  2021-12-26 07:53:25.450449\n",
       "3   4     9  Calm        76        6000      1023  2021-12-26 07:53:29.232431\n",
       "4   5     9  Calm        76        6000      1023  2021-12-26 07:53:32.284418"
      ]
     },
     "execution_count": 22,
     "metadata": {},
     "output_type": "execute_result"
    }
   ],
   "source": [
    "#code to show database\n",
    "import pandas as pd\n",
    "\n",
    "conn = sqlite3.connect(\"cairo_weather.db\") \n",
    "df = pd.read_sql(\"SELECT * FROM weather\", conn) \n",
    "conn.close()\n",
    "\n",
    "\n",
    "df.head()"
   ]
  },
  {
   "cell_type": "code",
   "execution_count": null,
   "metadata": {},
   "outputs": [],
   "source": []
  }
 ],
 "metadata": {
  "kernelspec": {
   "display_name": "Python 3",
   "language": "python",
   "name": "python3"
  },
  "language_info": {
   "codemirror_mode": {
    "name": "ipython",
    "version": 3
   },
   "file_extension": ".py",
   "mimetype": "text/x-python",
   "name": "python",
   "nbconvert_exporter": "python",
   "pygments_lexer": "ipython3",
   "version": "3.8.8"
  }
 },
 "nbformat": 4,
 "nbformat_minor": 4
}
